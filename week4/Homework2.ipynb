{
 "cells": [
  {
   "attachments": {},
   "cell_type": "markdown",
   "metadata": {},
   "source": [
    "[![ZwRI0k.jpg](https://sv1.picz.in.th/images/2019/08/18/ZwRI0k.jpg)](https://www.picz.in.th/image/ZwRI0k)\n",
    "Figure 1\n",
    "![ZwxnGQ.jpg](https://sv1.picz.in.th/images/2019/08/18/ZwxnGQ.jpg)\n",
    "Figure 2"
   ]
  },
  {
   "cell_type": "markdown",
   "metadata": {},
   "source": [
    "From Figure 2; KCL\n",
    "\n",
    "- Node A:\n",
    "$i_{1} - i_{2} - i_{3} - i_{4} - i_{5} = 0$\n",
    "\n",
    "- Node B:\n",
    "$i_{3} + i_{4} - i_{6} - i_{7} = 0$"
   ]
  },
  {
   "cell_type": "markdown",
   "metadata": {},
   "source": [
    "![ZwQTil.jpg](https://sv1.picz.in.th/images/2019/08/18/ZwQTil.jpg)\n",
    "Figure 3"
   ]
  },
  {
   "cell_type": "markdown",
   "metadata": {},
   "source": [
    "From Figure 3; KVL\n",
    "- Loop 1 : $2.5i_{1} + 15i_{2} = 35$\n",
    "        \n",
    "- Loop 2 : $-15i_{2} + 6i_{3} + 20i_{1} = 0$\n",
    "    \n",
    "- Loop 3 : $-6i_{3} + 12i_{4} = 0$\n",
    "\n",
    "- Loop 4 : $-12i_{4} + 60i_{5} - 80i_{6} = 0$\n",
    "\n",
    "- Loop 5 : $80i_{6} - 20i_{7} = 0$"
   ]
  },
  {
   "cell_type": "markdown",
   "metadata": {},
   "source": [
    "* Then we can write the Matrix\n",
    "$$\\begin{bmatrix}\n",
    " 1&  -1&  -1&  -1&  -1&  0&  0&\\\\ \n",
    " 0&   0&   1&   1&   0& -1& -1&\\\\ \n",
    " 2.5&  15& 0&   0&   0&  0&  0&\\\\ \n",
    " 0&  -15&  6&   0&   0&  0&  20&\\\\\n",
    " 0&   0&  -6&   12&   0&  0&  0&\\\\\n",
    " 0&   0&   0&   -12&  60& -80&  0&\\\\\n",
    " 0&   0&  0&    0&   0&   80& -20&\\end{bmatrix}\\begin{bmatrix}\n",
    "i_{1}\\\\ \n",
    "i_{2}\\\\ \n",
    "i_{3}\\\\ \n",
    "i_{4}\\\\\n",
    "i_{5}\\\\\n",
    "i_{6}\\\\\n",
    "i_{7}\\\\ \\end{bmatrix}= \\begin{bmatrix}\n",
    "0\\\\ \n",
    "0\\\\ \n",
    "35\\\\ \n",
    "0\\\\ \n",
    "0\\\\\n",
    "0\\\\\n",
    "0\\\\\n",
    "\\end{bmatrix}$$"
   ]
  },
  {
   "cell_type": "code",
   "execution_count": 1,
   "metadata": {},
   "outputs": [],
   "source": [
    "import numpy as np"
   ]
  },
  {
   "cell_type": "code",
   "execution_count": 2,
   "metadata": {},
   "outputs": [
    {
     "name": "stdout",
     "output_type": "stream",
     "text": [
      "[3.5    1.75   0.875  0.4375 0.4375 0.2625 1.05  ]\n"
     ]
    }
   ],
   "source": [
    "z = np.array([[1, -1, -1, -1, -1, 0, 0],\n",
    "              [0, 0, 1, 1, 0, -1, -1],\n",
    "              [2.5, 15, 0, 0, 0, 0, 0],\n",
    "              [0, -15, 6, 0, 0, 0, 20],\n",
    "              [0, 0, -6, 12, 0, 0, 0],\n",
    "              [0, 0, 0, -12, 60, -80, 0],\n",
    "              [0, 0, 0, 0, 0, 80, -20]])\n",
    "i = np.array([0, 0, 35, 0, 0, 0, 0])\n",
    "print(np.linalg.solve(z, i))"
   ]
  },
  {
   "cell_type": "markdown",
   "metadata": {},
   "source": [
    "# Answer\n",
    "$i_{1} = 3.5 \\:A\\\\ \n",
    "i_{2} = 1.75 \\:A\\\\\n",
    "i_{3} = 0.875 \\:A\\\\  \n",
    "i_{4} = 0.4375 \\:A\\\\\n",
    "i_{5} = 0.4375 \\:A\\\\\n",
    "i_{6} = 0.2625 \\:A\\\\\n",
    "i_{7} = 1.05 \\:A$\n"
   ]
  },
  {
   "cell_type": "code",
   "execution_count": null,
   "metadata": {},
   "outputs": [],
   "source": []
  }
 ],
 "metadata": {
  "kernelspec": {
   "display_name": "Python 3",
   "language": "python",
   "name": "python3"
  },
  "language_info": {
   "codemirror_mode": {
    "name": "ipython",
    "version": 3
   },
   "file_extension": ".py",
   "mimetype": "text/x-python",
   "name": "python",
   "nbconvert_exporter": "python",
   "pygments_lexer": "ipython3",
   "version": "3.7.3"
  }
 },
 "nbformat": 4,
 "nbformat_minor": 2
}
