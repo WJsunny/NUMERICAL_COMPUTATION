{
 "cells": [
  {
   "cell_type": "code",
   "execution_count": 1,
   "metadata": {},
   "outputs": [],
   "source": [
    "import numpy as np"
   ]
  },
  {
   "cell_type": "code",
   "execution_count": 2,
   "metadata": {},
   "outputs": [
    {
     "name": "stdout",
     "output_type": "stream",
     "text": [
      "[[70.  1.  0.]\n",
      " [60. -1.  1.]\n",
      " [40.  0. -1.]]\n",
      "[636.7 518.6 307.4]\n",
      "[ 8.60411765 34.41176471 36.76470588]\n"
     ]
    }
   ],
   "source": [
    "a = np.array([[70.0, 1.0, 0.0],[60.0, -1.0, 1.0],[40.0, 0.0, -1.0]])\n",
    "b = np.array([636.7, 518.6, 307.4])\n",
    "print(a)\n",
    "print(b)\n",
    "print(np.linalg.solve(a, b))"
   ]
  },
  {
   "cell_type": "code",
   "execution_count": null,
   "metadata": {},
   "outputs": [],
   "source": []
  }
 ],
 "metadata": {
  "kernelspec": {
   "display_name": "Python 3",
   "language": "python",
   "name": "python3"
  },
  "language_info": {
   "codemirror_mode": {
    "name": "ipython",
    "version": 3
   },
   "file_extension": ".py",
   "mimetype": "text/x-python",
   "name": "python",
   "nbconvert_exporter": "python",
   "pygments_lexer": "ipython3",
   "version": "3.7.3"
  }
 },
 "nbformat": 4,
 "nbformat_minor": 2
}
