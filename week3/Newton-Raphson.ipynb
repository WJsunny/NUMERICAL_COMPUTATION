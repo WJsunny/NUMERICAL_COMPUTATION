{
 "cells": [
  {
   "cell_type": "code",
   "execution_count": 1,
   "metadata": {},
   "outputs": [],
   "source": [
    "import numpy as np\n",
    "import matplotlib.pyplot as plt"
   ]
  },
  {
   "cell_type": "code",
   "execution_count": 2,
   "metadata": {},
   "outputs": [],
   "source": [
    "C = 1e-4\n",
    "R = 280.0\n",
    "t = 0.05\n",
    "#q0/q(t)\n",
    "qq0 = 0.01\n",
    "\n",
    "def fncL(L):\n",
    "    eP = np.exp(-(R*t/(2*L)))\n",
    "    sq = ((1/(L*C)) - ((R/(2*L))**2))**(1/2)\n",
    "    fl = et*np.cos(sq*t) - qq0\n",
    "    return fl\n"
   ]
  },
  {
   "cell_type": "code",
   "execution_count": 3,
   "metadata": {},
   "outputs": [],
   "source": [
    "def dfncL(L):\n",
    "    #not yet *t\n",
    "    theta = np.sqrt((1/(L*C)) - (R/(2*L))**2)\n",
    "    eP = np.exp(-((R*T)/(2*L)))\n",
    "    eq1 = eP*(-(np.sin(theta*t)))*(((t/2)*((R**2)/(2*(L**3))) - (1/(C*(L**2))))/theta)\n",
    "    eq2 = np.cos(theta*t)*eP*((R*t)/(2*(L**2)))\n",
    "    dfL = eq1 + eq2\n",
    "    return dfL\n",
    "    "
   ]
  },
  {
   "cell_type": "code",
   "execution_count": null,
   "metadata": {},
   "outputs": [],
   "source": [
    "def Newton(xi, err):\n",
    "    i = 0\n",
    "    while not et < err:\n",
    "        i += 1\n",
    "        xi1 = xi - fncL(xi)/dfncL(xi)\n",
    "        et = np.abs((xi1 -xi)/xi1) * 100\n",
    "        print()\n",
    "        xi = xi1"
   ]
  }
 ],
 "metadata": {
  "kernelspec": {
   "display_name": "Python 3",
   "language": "python",
   "name": "python3"
  },
  "language_info": {
   "codemirror_mode": {
    "name": "ipython",
    "version": 3
   },
   "file_extension": ".py",
   "mimetype": "text/x-python",
   "name": "python",
   "nbconvert_exporter": "python",
   "pygments_lexer": "ipython3",
   "version": "3.7.3"
  }
 },
 "nbformat": 4,
 "nbformat_minor": 2
}
