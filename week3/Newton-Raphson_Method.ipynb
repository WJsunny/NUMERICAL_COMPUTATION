{
 "cells": [
  {
   "cell_type": "code",
   "execution_count": 1,
   "metadata": {},
   "outputs": [
    {
     "name": "stdout",
     "output_type": "stream",
     "text": [
      "Using matplotlib backend: Qt5Agg\n"
     ]
    }
   ],
   "source": [
    "%matplotlib\n",
    "import numpy as np\n",
    "import matplotlib.pyplot as plt"
   ]
  },
  {
   "cell_type": "code",
   "execution_count": 2,
   "metadata": {},
   "outputs": [],
   "source": [
    "C = 1e-4\n",
    "R = 280.0\n",
    "t = 0.05\n",
    "#q0/q(t)\n",
    "qq0 = 0.01\n",
    "\n",
    "def fncL(L):\n",
    "    eP = np.exp(-(R*t/(2*L)))\n",
    "    sq = ((1/(L*C)) - ((R/(2*L))**2))**(1/2)\n",
    "    fl = eP*np.cos(sq*t) - qq0\n",
    "    return fl\n"
   ]
  },
  {
   "cell_type": "code",
   "execution_count": 3,
   "metadata": {},
   "outputs": [],
   "source": [
    "def dfncL(L):\n",
    "    #not yet *t\n",
    "    theta = np.sqrt((1/(L*C)) - (R/(2*L))**2)\n",
    "    eP = np.exp(-((R*t)/(2*L)))\n",
    "    eq1 = eP*(-(np.sin(theta*t)))*(((t/2)*((R**2)/(2*(L**3))) - (1/(C*(L**2))))/theta)\n",
    "    eq2 = np.cos(theta*t)*eP*((R*t)/(2*(L**2)))\n",
    "    dfL = eq1 + eq2\n",
    "    return dfL\n",
    "    "
   ]
  },
  {
   "cell_type": "code",
   "execution_count": 4,
   "metadata": {},
   "outputs": [],
   "source": [
    "def Newton(xi, err, fnc, dfnc):\n",
    "    er = err + 10\n",
    "    i = 0\n",
    "    y = np.array([0])\n",
    "    x = np.array([0])\n",
    "    while not er < err:\n",
    "        xi1 = xi - fnc(xi)/dfnc(xi)\n",
    "        er = np.abs((xi1 -xi)/xi1) * 100\n",
    "        print('i = {:3d}, L = {:22}, error = {}%'.format(i,xi1,er))\n",
    "        y = np.append(y, er)\n",
    "        x = np.append(x, i)\n",
    "        xi = xi1\n",
    "        i += 1\n",
    "    return x, y"
   ]
  },
  {
   "cell_type": "code",
   "execution_count": 12,
   "metadata": {},
   "outputs": [
    {
     "name": "stdout",
     "output_type": "stream",
     "text": [
      "i =   0, L =      7.830151048185711, error = 0.0019290583895723167%\n",
      "i =   1, L =      7.830300111562414, error = 0.0019036738640757424%\n",
      "i =   2, L =      7.830447216115313, error = 0.0018786226231901088%\n",
      "i =   3, L =      7.830592387491917, error = 0.00185390031073754%\n",
      "i =   4, L =     7.8307356510063615, error = 0.0018295026269477019%\n",
      "i =   5, L =      7.830877031643678, error = 0.0018054253277787233%\n",
      "i =   6, L =      7.831016554064009, error = 0.0017816642241482335%\n",
      "i =   7, L =      7.831154242606774, error = 0.0017582151813126745%\n",
      "i =   8, L =      7.831290121294782, error = 0.0017350741180999836%\n",
      "i =   9, L =     7.8314242138382895, error = 0.0017122370062678247%\n",
      "i =  10, L =      7.831556543639014, error = 0.0016896998698399024%\n",
      "i =  11, L =      7.831687133794094, error = 0.0016674587844090042%\n",
      "i =  12, L =           7.8318160071, error = 0.0016455098764974797%\n",
      "i =  13, L =      7.831943186056395, error = 0.0016238493228844092%\n",
      "i =  14, L =      7.832068692869953, error = 0.0016024733500128489%\n",
      "i =  15, L =      7.832192549458121, error = 0.001581378233307028%\n",
      "i =  16, L =      7.832314777452838, error = 0.0015605602965469082%\n",
      "i =  17, L =      7.832435398204213, error = 0.001540015911300083%\n",
      "i =  18, L =      7.832554432784144, error = 0.0015197414962409028%\n",
      "i =  19, L =      7.832671901989905, error = 0.0014997335166289662%\n",
      "i =  20, L =     7.8327878263476824, error = 0.0014799884836294499%\n",
      "i =  21, L =      7.832902226116062, error = 0.0014605029537814289%\n",
      "i =  22, L =      7.833015121289479, error = 0.001441273528387386%\n",
      "i =  23, L =      7.833126531601628, error = 0.0014222968529713034%\n",
      "i =  24, L =      7.833236476528813, error = 0.001403569616657916%\n",
      "i =  25, L =       7.83334497529328, error = 0.0013850885516885516%\n",
      "i =  26, L =      7.833452046866485, error = 0.0013668504327900757%\n",
      "i =  27, L =      7.833557709972334, error = 0.0013488520766803923%\n",
      "i =  28, L =       7.83366198309038, error = 0.0013310903415404093%\n",
      "i =  29, L =      7.833764884458973, error = 0.001313562126395772%\n",
      "i =  30, L =     7.8338664320783815, error = 0.0012962643707144718%\n",
      "i =  31, L =      7.833966643713863, error = 0.0012791940537781434%\n",
      "i =  32, L =      7.834065536898705, error = 0.0012623481942578758%\n",
      "i =  33, L =       7.83416312893722, error = 0.0012457238496203814%\n",
      "i =  34, L =       7.83425943690771, error = 0.0012293181157159757%\n",
      "i =  35, L =      7.834354477665387, error = 0.0012131281262195723%\n",
      "i =  36, L =      7.834448267845257, error = 0.0011971510521741043%\n",
      "i =  37, L =      7.834540823864977, error = 0.0011813841015116504%\n",
      "i =  38, L =      7.834632161927658, error = 0.0011658245185409233%\n",
      "i =  39, L =      7.834722298024651, error = 0.001150469583537147%\n",
      "i =  40, L =      7.834811247938287, error = 0.0011353166122415957%\n",
      "i =  41, L =      7.834899027244581, error = 0.0011203629553954812%\n",
      "i =  42, L =      7.834985651315908, error = 0.0011056059983081885%\n",
      "i =  43, L =      7.835071135323645, error = 0.0010910431604258313%\n",
      "i =  44, L =     7.8351554942407695, error = 0.0010766718948547812%\n",
      "i =  45, L =      7.835238742844437, error = 0.0010624896879308525%\n",
      "i =  46, L =      7.835320895718519, error = 0.0010484940588341262%\n",
      "i =  47, L =       7.83540196725611, error = 0.001034682559102049%\n",
      "i =  48, L =      7.835481971662002, error = 0.0010210527722675073%\n",
      "i =  49, L =       7.83556092295513, error = 0.0010076023134064941%\n",
      "i =  50, L =      7.835638834970983, error = 0.0009943288287540622%\n"
     ]
    },
    {
     "data": {
      "image/png": "[encoded data removed]",
      "text/plain": [
       "<Figure size 432x288 with 1 Axes>"
      ]
     },
     "metadata": {
      "needs_background": "light"
     },
     "output_type": "display_data"
    }
   ],
   "source": [
    "Newton(7.83, 0.001, fncL, dfncL)\n",
    "\n",
    "#plot graph\n",
    "x = np.arange(1.96, 20,0.01)\n",
    "plt.plot(x, fncL(x))\n",
    "plt.grid()"
   ]
  },
  {
   "cell_type": "code",
   "execution_count": null,
   "metadata": {},
   "outputs": [],
   "source": []
  }
 ],
 "metadata": {
  "kernelspec": {
   "display_name": "Python 3",
   "language": "python",
   "name": "python3"
  },
  "language_info": {
   "codemirror_mode": {
    "name": "ipython",
    "version": 3
   },
   "file_extension": ".py",
   "mimetype": "text/x-python",
   "name": "python",
   "nbconvert_exporter": "python",
   "pygments_lexer": "ipython3",
   "version": "3.7.3"
  }
 },
 "nbformat": 4,
 "nbformat_minor": 2
}
