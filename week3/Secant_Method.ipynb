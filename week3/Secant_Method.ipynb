{
 "cells": [
  {
   "cell_type": "code",
   "execution_count": 1,
   "metadata": {},
   "outputs": [
    {
     "name": "stdout",
     "output_type": "stream",
     "text": [
      "Using matplotlib backend: Qt5Agg\n"
     ]
    }
   ],
   "source": [
    "%matplotlib\n",
    "import numpy as np\n",
    "import matplotlib.pyplot as plt"
   ]
  },
  {
   "cell_type": "code",
   "execution_count": 2,
   "metadata": {},
   "outputs": [],
   "source": [
    "C = 1e-4\n",
    "R = 280.0\n",
    "t = 0.05\n",
    "#q0/q(t)\n",
    "qq0 = 0.01\n",
    "\n",
    "def fncL(L):\n",
    "    eP = np.exp(-(R*t/(2*L)))\n",
    "    sq = ((1/(L*C)) - ((R/(2*L))**2))**(1/2)\n",
    "    fl = eP*np.cos(sq*t) - qq0\n",
    "    return fl"
   ]
  },
  {
   "cell_type": "code",
   "execution_count": 3,
   "metadata": {},
   "outputs": [],
   "source": [
    "def Secant(xi_1, xi, err, fnc):\n",
    "    er = err + 10\n",
    "    x = np.array([])\n",
    "    y = np.array([])\n",
    "    i = 0\n",
    "    while not er <= err:\n",
    "        xi1 = xi - (fnc(xi)*(xi_1 - xi))/(fnc(xi_1) - fnc(xi))\n",
    "        er = np.abs((xi1 -xi)/xi1) * 100\n",
    "        print('i = {:3d}, L = {:22}, error = {}%'.format(i,xi1,er))\n",
    "        y = np.append(y, er)\n",
    "        x = np.append(x, i)\n",
    "        xi_1 = xi\n",
    "        xi = xi1\n",
    "        i += 1\n",
    "    return x, y"
   ]
  },
  {
   "cell_type": "code",
   "execution_count": 4,
   "metadata": {},
   "outputs": [
    {
     "name": "stdout",
     "output_type": "stream",
     "text": [
      "i =   0, L =      7.656492974239937, error = 17.547289996611454%\n",
      "i =   1, L =       7.83080243494848, error = 2.2259463465788505%\n",
      "i =   2, L =     7.8416093893436525, error = 0.137815515394817%\n",
      "i =   3, L =      7.841473856184991, error = 0.0017284143408134436%\n",
      "i =   4, L =      7.841473950104941, error = 1.1977333679482727e-06%\n"
     ]
    },
    {
     "data": {
      "text/plain": [
       "(array([0., 1., 2., 3., 4.]),\n",
       " array([1.75472900e+01, 2.22594635e+00, 1.37815515e-01, 1.72841434e-03,\n",
       "        1.19773337e-06]))"
      ]
     },
     "execution_count": 4,
     "metadata": {},
     "output_type": "execute_result"
    }
   ],
   "source": [
    "Secant(6, 9, 0.001, fncL)"
   ]
  },
  {
   "cell_type": "code",
   "execution_count": null,
   "metadata": {},
   "outputs": [],
   "source": []
  }
 ],
 "metadata": {
  "kernelspec": {
   "display_name": "Python 3",
   "language": "python",
   "name": "python3"
  },
  "language_info": {
   "codemirror_mode": {
    "name": "ipython",
    "version": 3
   },
   "file_extension": ".py",
   "mimetype": "text/x-python",
   "name": "python",
   "nbconvert_exporter": "python",
   "pygments_lexer": "ipython3",
   "version": "3.7.3"
  }
 },
 "nbformat": 4,
 "nbformat_minor": 2
}
