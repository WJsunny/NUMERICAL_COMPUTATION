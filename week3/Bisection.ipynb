{
 "cells": [
  {
   "cell_type": "code",
   "execution_count": 1,
   "metadata": {},
   "outputs": [],
   "source": [
    "import numpy as np\n",
    "import matplotlib.pyplot as plt"
   ]
  },
  {
   "cell_type": "code",
   "execution_count": 2,
   "metadata": {},
   "outputs": [],
   "source": [
    "g = 9.81\n",
    "m = 68.1\n",
    "v = 40.0\n",
    "t = 10.0\n",
    "fc = lambda c : ((g*m)/c)*(1-np.exp(-(c/m)*t)) - 40.0\n",
    "\n",
    "def Bisection(xl, xu, err, fnc):\n",
    "    er = err+10\n",
    "    i = 0\n",
    "    xrn = 0\n",
    "    fxl = fnc(xl)\n",
    "    while not er <= err:\n",
    "        i += 1\n",
    "        xr = xrn\n",
    "        xrn = (xl+xu)/2\n",
    "        fxr = fnc(xrn)\n",
    "        if (fxl * fxr < 0):\n",
    "            xu = xrn\n",
    "        elif (fxl * fxr >0):\n",
    "            xl = xrn\n",
    "            fxl = fxr\n",
    "        else:\n",
    "            print('i = {:3d}, c = {7.3f}, error = {:.3f}'.format(i,xrn,er))\n",
    "            break\n",
    "        er = np.abs(((xrn - xr) / xrn)) * 100\n",
    "        print('i = {:3d}, c = {:7.3f}, error = {:.3f}'.format(i,xrn,er))"
   ]
  },
  {
   "cell_type": "code",
   "execution_count": 3,
   "metadata": {},
   "outputs": [
    {
     "name": "stdout",
     "output_type": "stream",
     "text": [
      "i =   1, c =  14.000, error = 100.000\n",
      "i =   2, c =  15.000, error = 6.667\n",
      "i =   3, c =  14.500, error = 3.448\n",
      "i =   4, c =  14.750, error = 1.695\n",
      "i =   5, c =  14.875, error = 0.840\n",
      "i =   6, c =  14.812, error = 0.422\n",
      "i =   7, c =  14.781, error = 0.211\n",
      "i =   8, c =  14.797, error = 0.106\n",
      "i =   9, c =  14.805, error = 0.053\n",
      "i =  10, c =  14.801, error = 0.026\n",
      "i =  11, c =  14.803, error = 0.013\n",
      "i =  12, c =  14.802, error = 0.007\n",
      "i =  13, c =  14.801, error = 0.003\n",
      "i =  14, c =  14.801, error = 0.002\n",
      "i =  15, c =  14.801, error = 0.001\n"
     ]
    },
    {
     "data": {
      "image/png": "[encoded data removed]",
      "text/plain": [
       "<Figure size 432x288 with 1 Axes>"
      ]
     },
     "metadata": {
      "needs_background": "light"
     },
     "output_type": "display_data"
    }
   ],
   "source": [
    "#called function\n",
    "Bisection(12,16,0.001,fc)\n",
    "\n",
    "#plot graph\n",
    "x = np.arange(12,16,0.001)\n",
    "plt.plot(x, fc(x))\n",
    "plt.grid()"
   ]
  },
  {
   "cell_type": "code",
   "execution_count": null,
   "metadata": {},
   "outputs": [],
   "source": []
  }
 ],
 "metadata": {
  "kernelspec": {
   "display_name": "Python 3",
   "language": "python",
   "name": "python3"
  },
  "language_info": {
   "codemirror_mode": {
    "name": "ipython",
    "version": 3
   },
   "file_extension": ".py",
   "mimetype": "text/x-python",
   "name": "python",
   "nbconvert_exporter": "python",
   "pygments_lexer": "ipython3",
   "version": "3.7.3"
  }
 },
 "nbformat": 4,
 "nbformat_minor": 2
}
