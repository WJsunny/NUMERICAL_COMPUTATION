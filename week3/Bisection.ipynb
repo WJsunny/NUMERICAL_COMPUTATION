{
 "cells": [
  {
   "cell_type": "code",
   "execution_count": 1,
   "metadata": {},
   "outputs": [],
   "source": [
    "import numpy as np\n",
    "import matplotlib.pyplot as plt"
   ]
  },
  {
   "cell_type": "code",
   "execution_count": 22,
   "metadata": {},
   "outputs": [],
   "source": [
    "g= 9.81\n",
    "m = 68.1\n",
    "v = 40.0\n",
    "t = 10.0\n",
    "fc = lambda c : ((g*m)/c)*(1-np.exp(-(c/m)*t)) - 40.0\n",
    "\n",
    "def Bisection(xl,xu,err):\n",
    "    er = err+10\n",
    "    i = 0\n",
    "    xr = 0\n",
    "    while not er <= err:\n",
    "        fxl = fc(xl)\n",
    "        fxu = fc(xu)\n",
    "        xrn = (xl+xu)/2\n",
    "        fxr = fc(xrn)\n",
    "        if (fxl * fxr < 0):\n",
    "            xu = xrn\n",
    "        if (fxl * fxr >0):\n",
    "            xl = xrn\n",
    "        if (fxl * fxr == 0):\n",
    "            print('i = {:3d}, c = {7.3f}, error = {:.3f}'.format(i,xrn,er))\n",
    "            break\n",
    "        er = np.abs(((xrn - xr) / xrn) * 100)\n",
    "        xr = xrn\n",
    "        print('i = {:3d}, c = {:7.3f}, error = {:.3f}'.format(i,xrn,er))\n",
    "        i += 1"
   ]
  },
  {
   "cell_type": "code",
   "execution_count": 23,
   "metadata": {},
   "outputs": [
    {
     "name": "stdout",
     "output_type": "stream",
     "text": [
      "i =   0, c =   2.500, error = 100.000\n",
      "i =   1, c =  13.750, error = 81.818\n",
      "i =   2, c =  19.375, error = 29.032\n",
      "i =   3, c =  16.562, error = 16.981\n",
      "i =   4, c =  15.156, error = 9.278\n",
      "i =   5, c =  14.453, error = 4.865\n",
      "i =   6, c =  14.805, error = 2.375\n",
      "i =   7, c =  14.629, error = 1.202\n",
      "i =   8, c =  14.717, error = 0.597\n",
      "i =   9, c =  14.761, error = 0.298\n",
      "i =  10, c =  14.783, error = 0.149\n",
      "i =  11, c =  14.794, error = 0.074\n",
      "i =  12, c =  14.799, error = 0.037\n",
      "i =  13, c =  14.802, error = 0.019\n",
      "i =  14, c =  14.801, error = 0.009\n",
      "i =  15, c =  14.801, error = 0.005\n",
      "i =  16, c =  14.801, error = 0.002\n",
      "i =  17, c =  14.801, error = 0.001\n",
      "i =  18, c =  14.801, error = 0.001\n"
     ]
    },
    {
     "data": {
      "image/png": "[encoded data removed]",
      "text/plain": [
       "<Figure size 432x288 with 1 Axes>"
      ]
     },
     "metadata": {
      "needs_background": "light"
     },
     "output_type": "display_data"
    }
   ],
   "source": [
    "Bisection(-20,25,0.001)\n",
    "\n",
    "#plot graph\n",
    "x = np.arange(10,16,0.1)\n",
    "plt.plot(x, fc(x))\n",
    "plt.grid()"
   ]
  },
  {
   "cell_type": "code",
   "execution_count": null,
   "metadata": {},
   "outputs": [],
   "source": []
  }
 ],
 "metadata": {
  "kernelspec": {
   "display_name": "Python 3",
   "language": "python",
   "name": "python3"
  },
  "language_info": {
   "codemirror_mode": {
    "name": "ipython",
    "version": 3
   },
   "file_extension": ".py",
   "mimetype": "text/x-python",
   "name": "python",
   "nbconvert_exporter": "python",
   "pygments_lexer": "ipython3",
   "version": "3.7.3"
  }
 },
 "nbformat": 4,
 "nbformat_minor": 2
}
